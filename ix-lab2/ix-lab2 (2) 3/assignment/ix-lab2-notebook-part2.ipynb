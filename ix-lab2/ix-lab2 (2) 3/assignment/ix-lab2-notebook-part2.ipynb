{
 "cells": [
  {
   "cell_type": "markdown",
   "metadata": {},
   "source": [
    "# Networks: structure, evolution & processes\n",
    "**Internet Analytics - Lab 2**\n",
    "\n",
    "---\n",
    "\n",
    "**Group:** *Your group letter.*\n",
    "\n",
    "**Names:**\n",
    "\n",
    "* *Name 1*\n",
    "* *Name 2*\n",
    "* *Name 3*\n",
    "\n",
    "---\n",
    "\n",
    "#### Instructions\n",
    "\n",
    "*This is a template for part 2 of the lab. Clearly write your answers, comments and interpretations in Markodown cells. Don't forget that you can add $\\LaTeX$ equations in these cells. Feel free to add or remove any cell.*\n",
    "\n",
    "*Please properly comment your code. Code readability will be considered for grading. To avoid long cells of codes in the notebook, you can also embed long python functions and classes in a separate module. Don’t forget to hand in your module if that is the case. In multiple exercises, you are required to come up with your own method to solve various problems. Be creative and clearly motivate and explain your methods. Creativity and clarity will be considered for grading.*"
   ]
  },
  {
   "cell_type": "markdown",
   "metadata": {},
   "source": [
    "---\n",
    "\n",
    "## 2.2 Network sampling\n",
    "\n",
    "#### Exercise 2.7: Random walk on the Facebook network"
   ]
  },
  {
   "cell_type": "code",
   "execution_count": 1,
   "metadata": {},
   "outputs": [],
   "source": [
    "# ... WRITE YOUR CODE HERE...\n",
    "import requests\n",
    "import random"
   ]
  },
  {
   "cell_type": "code",
   "execution_count": 2,
   "metadata": {},
   "outputs": [],
   "source": [
    "def random_walk(s, N):\n",
    "    ages = 0\n",
    "    dict_users = {}\n",
    "    \n",
    "    # Initialize the first user\n",
    "    URL_TEMPLATE = 'http://iccluster028.iccluster.epfl.ch:5050/v1.0/facebook?user={user_id}'\n",
    "    url = URL_TEMPLATE.format(user_id=s)\n",
    "    response = requests.get(url)\n",
    "    dict_users[s] = response.json()\n",
    "    \n",
    "    # Walk randomly through the graph \n",
    "    for _ in range(N):\n",
    "        \n",
    "        data = dict_users[s]\n",
    "        \n",
    "        age = data['age']\n",
    "        friends = data['friends']\n",
    "        \n",
    "        ages += age\n",
    "        s = random.choice(friends)\n",
    "        \n",
    "        # Request for a new user if not already in the graph\n",
    "        if s not in dict_users:\n",
    "            url = URL_TEMPLATE.format(user_id=s)\n",
    "            response = requests.get(url)\n",
    "            dict_users[s] = response.json()\n",
    "            \n",
    "    return ages/max(N,1)\n",
    "\n",
    "N = 1000\n",
    "avg_age = random_walk('a5771bce93e200c36f7cd9dfd0e5deaa', N)"
   ]
  },
  {
   "cell_type": "code",
   "execution_count": 3,
   "metadata": {},
   "outputs": [
    {
     "name": "stdout",
     "output_type": "stream",
     "text": [
      "The average age is 25.6 years old.\n"
     ]
    }
   ],
   "source": [
    "print(\"The average age is {:.1f} years old.\".format(round(avg_age, 1)))"
   ]
  },
  {
   "cell_type": "markdown",
   "metadata": {},
   "source": [
    "The average age obtained is around 26 years old for 1000 nodes visited."
   ]
  },
  {
   "cell_type": "markdown",
   "metadata": {},
   "source": [
    "#### Exercise 2.8"
   ]
  },
  {
   "cell_type": "markdown",
   "metadata": {},
   "source": [
    "Our estimation of 23 years is far from the real user average age. This can be explained by the fact that, as seen in the course, younger users tend to have more friends and thus, they tend to be sampled more often. Moreover, our first user is 13 years so we will first more likely navigate among young people. So we want now to compensate for this bias, using the formula seen in class."
   ]
  },
  {
   "cell_type": "code",
   "execution_count": 4,
   "metadata": {},
   "outputs": [],
   "source": [
    "def better_random_walk(s, N):\n",
    "    weighted_ages = 0\n",
    "    sum_degrees = 0\n",
    "    URL_TEMPLATE = 'http://iccluster028.iccluster.epfl.ch:5050/v1.0/facebook?user={user_id}'\n",
    "    dict_users = {}\n",
    "    \n",
    "    # Initialize the first user\n",
    "    url = URL_TEMPLATE.format(user_id=s)\n",
    "    response = requests.get(url)\n",
    "    dict_users[s] = response.json()\n",
    "    \n",
    "    # Walk randomly through the graph \n",
    "    for _ in range(N):\n",
    "        data = dict_users[s]\n",
    "        \n",
    "        age = data['age']\n",
    "        friends = data['friends']\n",
    "        degree = len(friends)\n",
    "        \n",
    "        # Compensate for the bias\n",
    "        weighted_age = age / degree\n",
    "        sum_degree = 1 / degree\n",
    "        \n",
    "        weighted_ages += weighted_age\n",
    "        sum_degrees += sum_degree\n",
    "        \n",
    "        s = random.choice(friends)\n",
    "        \n",
    "        # Request for a new user if not already in the graph\n",
    "        if s not in dict_users:\n",
    "            url = URL_TEMPLATE.format(user_id=s)\n",
    "            response = requests.get(url)\n",
    "            dict_users[s] = response.json()\n",
    "    \n",
    "    return weighted_ages / sum_degrees\n",
    "\n",
    "N = 10000\n",
    "\n",
    "avg_age = better_random_walk('a5771bce93e200c36f7cd9dfd0e5deaa', N)"
   ]
  },
  {
   "cell_type": "code",
   "execution_count": 5,
   "metadata": {},
   "outputs": [
    {
     "name": "stdout",
     "output_type": "stream",
     "text": [
      "The average age is 44.7 years old.\n"
     ]
    }
   ],
   "source": [
    "print(\"The average age is {:.1f} years old.\".format(round(avg_age, 1)))"
   ]
  },
  {
   "cell_type": "markdown",
   "metadata": {
    "collapsed": true
   },
   "source": [
    "Our new average of around 45 years old is thus much closer to the true average, with the same number of nodes visited, since we have compensated for the bias."
   ]
  }
 ],
 "metadata": {
  "kernelspec": {
   "display_name": "Python 3",
   "language": "python",
   "name": "python3"
  },
  "language_info": {
   "codemirror_mode": {
    "name": "ipython",
    "version": 3
   },
   "file_extension": ".py",
   "mimetype": "text/x-python",
   "name": "python",
   "nbconvert_exporter": "python",
   "pygments_lexer": "ipython3",
   "version": "3.7.6"
  }
 },
 "nbformat": 4,
 "nbformat_minor": 2
}
